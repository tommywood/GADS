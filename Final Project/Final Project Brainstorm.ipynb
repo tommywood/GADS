{
 "cells": [
  {
   "cell_type": "markdown",
   "metadata": {},
   "source": [
    "# Problems"
   ]
  },
  {
   "cell_type": "markdown",
   "metadata": {},
   "source": [
    "## Unsubscribes"
   ]
  },
  {
   "cell_type": "markdown",
   "metadata": {},
   "source": [
    "Problem: Reduce unsubscribe rate by predicting when a user is likely to unsubscribe so that we can intervene. When a user unsubscribes they (generally) cease to generate any more value for the business so to maximize revenue we need to keep all user engaged.\n",
    "\n",
    "Data Set: user IDs, subscription state, activity levels before unsubscribe (amounts, time before unsubscribe etc.), user level characteristics (category selection, retailer selection, subscription source)\n",
    "\n",
    "Hypothesis: If we offer users who are likely to unsubscribe an incentive before they unsubscribe we will be able to reduce our unsubcribe rate. We will be able to predict when a user is likely to unsubscribe based on amount of time they've been inactive/away from the site\n"
   ]
  },
  {
   "cell_type": "markdown",
   "metadata": {},
   "source": [
    "## Predict LTV based on day 1 engagement"
   ]
  },
  {
   "cell_type": "markdown",
   "metadata": {
    "collapsed": true
   },
   "source": [
    "push a few slides to github"
   ]
  }
 ],
 "metadata": {
  "kernelspec": {
   "display_name": "Python 3",
   "language": "python",
   "name": "python3"
  },
  "language_info": {
   "codemirror_mode": {
    "name": "ipython",
    "version": 3
   },
   "file_extension": ".py",
   "mimetype": "text/x-python",
   "name": "python",
   "nbconvert_exporter": "python",
   "pygments_lexer": "ipython3",
   "version": "3.5.1"
  }
 },
 "nbformat": 4,
 "nbformat_minor": 0
}
